
def find_element_O1(arr, index):
    if index < len(arr):
        return arr[index]
    return None
# Przykład użycia
arr = [3, 5, 7, 9, 11]
print(find_element_O1(arr, 2))  # Wynik: 7

def find_element_On(arr, target):
    for element in arr:
        if element == target:
            return element
    return None
# Przykład użycia
arr = [3, 5, 7, 9, 11]
print(find_element_On(arr, 7))  # Wynik: 7

def find_element_Ologn(arr, target):
    left, right = 0, len(arr) - 1
    while left <= right:
        mid = (left + right) // 2
        if arr[mid] == target:
            return arr[mid]
        elif arr[mid] < target:
            left = mid + 1
        else:
            right = mid - 1
    return None
# Przykład użycia
arr = [3, 5, 7, 9, 11]
print(find_element_Ologn(arr, 9))  # Wynik: 9

def find_pair_On2(arr, target):
    for i in range(len(arr)):
        for j in range(i + 1, len(arr)):
            if arr[i] + arr[j] == target:
                return (arr[i], arr[j])
    return None
# Przykład użycia
arr = [3, 5, 7, 9, 11]
print(find_pair_On2(arr, 14))  # Wynik: (3, 11)

def find_element_Onlogn(arr, target):
    # Sortujemy tablicę - kosztuje O(n log n)
    arr.sort()
    # Następnie wyszukujemy binarnie - kosztuje O(log n)
    left, right = 0, len(arr) - 1
    while left <= right:
        mid = (left + right) // 2
        if arr[mid] == target:
            return arr[mid]
        elif arr[mid] < target:
            left = mid + 1
        else:
            right = mid - 1
    return None
# Przykład użycia
arr = [11, 3, 9, 5, 7]
print(find_element_Onlogn(arr, 9))  # Wynik: 9
