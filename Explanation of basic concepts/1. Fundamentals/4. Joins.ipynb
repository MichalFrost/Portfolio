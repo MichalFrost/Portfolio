{
 "cells": [
  {
   "cell_type": "code",
   "execution_count": null,
   "metadata": {},
   "outputs": [],
   "source": [
    "import sqlite3\n",
    "\n",
    "# Initialize Sqlite DB\n",
    "conn = sqlite3.connect('joins.db')\n",
    "cursor = conn.cursor()"
   ]
  },
  {
   "cell_type": "code",
   "execution_count": 1,
   "metadata": {},
   "outputs": [],
   "source": [
    "# Creating SQL Tables\n",
    "\n",
    "\n",
    "# cursor.execute(\"\"\"\n",
    "# CREATE TABLE Employees (\n",
    "#     EmployeeID INT PRIMARY KEY,\n",
    "#     Name VARCHAR(100),\n",
    "#     DepartmentID INT,\n",
    "#     Salary DECIMAL(10,2)\n",
    "# );\"\"\")\n",
    "\n",
    "# cursor.execute(\"\"\"\n",
    "       \n",
    "# CREATE TABLE Departments (\n",
    "#     DepartmentID INT PRIMARY KEY,\n",
    "#     DepartmentName VARCHAR(100)\n",
    "# );\n",
    "# \"\"\")\n",
    "\n",
    "# cursor.execute(\"\"\"\n",
    "       \n",
    "# CREATE TABLE Project (\n",
    "#     ProjectID INT PRIMARY KEY,\n",
    "#     ProjectName VARCHAR(100)\n",
    "# );\n",
    "# \"\"\")\n",
    "\n",
    "# cursor.execute(\"\"\"\n",
    "       \n",
    "# CREATE TABLE EmployeeProjects (\n",
    "#     EmployeeID INT,\n",
    "#     ProjectID INT,\n",
    "#     HoursWorked INT,\n",
    "#     PRIMARY KEY (EmployeeID, ProjectID),\n",
    "#     FOREIGN KEY (EmployeeID) REFERENCES Employees(EmployeeID),\n",
    "#     FOREIGN KEY (ProjectID) REFERENCES Projects(ProjectID)\n",
    "# );\n",
    "# \"\"\")"
   ]
  },
  {
   "cell_type": "code",
   "execution_count": 2,
   "metadata": {},
   "outputs": [],
   "source": [
    "# Inserting the data into tables\n",
    "\n",
    "\n",
    "# cursor.execute(\"\"\"\n",
    "# INSERT INTO Employees (EmployeeID, Name, DepartmentID, Salary) VALUES\n",
    "# (1, 'Anna Kowalska', 1, 5000.00),\n",
    "# (2, 'Jan Nowak', 2, 6000.00),\n",
    "# (3, 'Piotr Wiśniewski', NULL, 4500.00),\n",
    "# (4, 'Maria Zielińska', 1, 5200.00);\n",
    "# \"\"\")\n",
    "\n",
    "# cursor.execute(\"\"\"\n",
    "       \n",
    "# INSERT INTO Departments (DepartmentID, DepartmentName) VALUES\n",
    "# (1, 'IT'),\n",
    "# (2, 'HR'),\n",
    "# (3, 'Marketing');\n",
    "# \"\"\")\n",
    "\n",
    "# cursor.execute(\"\"\"\n",
    "       \n",
    "# INSERT INTO Projects (ProjectID, ProjectName) VALUES\n",
    "# (1, 'System CRM'),\n",
    "# (2, 'Strona WWW'),\n",
    "# (3, 'Aplikacja mobilna');\n",
    "# \"\"\")\n",
    "\n",
    "# cursor.execute(\"\"\"\n",
    "\n",
    "# INSERT INTO EmployeeProjects (EmployeeID, ProjectID, HoursWorked) VALUES\n",
    "# (1, 1, 20),\n",
    "# (1, 2, 15),\n",
    "# (2, 3, 30),\n",
    "# (4, 1, 25);\n",
    "        \n",
    "# \"\"\")\n"
   ]
  },
  {
   "cell_type": "code",
   "execution_count": 3,
   "metadata": {},
   "outputs": [],
   "source": [
    "# Zadania do ćwiczeń\n",
    "# 1. Wykonaj INNER JOIN między tabelami Employees i Departments, aby uzyskać listę pracowników wraz z nazwami działów.\n",
    "# 2. Wykonaj LEFT JOIN między tabelami Employees i EmployeeProjects, aby zobaczyć, którzy pracownicy są przypisani do projektów, a którzy nie.\n",
    "# 3. Wykonaj RIGHT JOIN między tabelami Departments i Employees, aby zobaczyć wszystkie działy, nawet te bez pracowników.\n",
    "# 4. Wykonaj FULL OUTER JOIN między Employees i EmployeeProjects, aby zobaczyć pełne powiązania pracowników z projektami.\n",
    "# 5. Wykonaj CROSS JOIN między Employees i Projects, aby zobaczyć wszystkie możliwe kombinacje pracowników i projektów.\n",
    "# 6. Wykonaj THETA JOIN między Employees i EmployeeProjects, gdzie HoursWorked > 20."
   ]
  },
  {
   "cell_type": "code",
   "execution_count": 4,
   "metadata": {},
   "outputs": [
    {
     "ename": "NameError",
     "evalue": "name 'cursor' is not defined",
     "output_type": "error",
     "traceback": [
      "\u001b[0;31m---------------------------------------------------------------------------\u001b[0m",
      "\u001b[0;31mNameError\u001b[0m                                 Traceback (most recent call last)",
      "Cell \u001b[0;32mIn[4], line 3\u001b[0m\n\u001b[1;32m      1\u001b[0m \u001b[38;5;66;03m# Zad.1 Wykonaj INNER JOIN między tabelami Employees i Departments, aby uzyskać listę pracowników wraz z nazwami działów.\u001b[39;00m\n\u001b[0;32m----> 3\u001b[0m \u001b[43mcursor\u001b[49m\u001b[38;5;241m.\u001b[39mexecute(\u001b[38;5;124m\"\u001b[39m\u001b[38;5;124mSELECT * FROM Employees E INNER JOIN Departments D ON E.DepartmentID = D.DepartmentID ;\u001b[39m\u001b[38;5;124m\"\u001b[39m)\n\u001b[1;32m      4\u001b[0m rows \u001b[38;5;241m=\u001b[39m cursor\u001b[38;5;241m.\u001b[39mfetchall()\n\u001b[1;32m      5\u001b[0m \u001b[38;5;28;01mfor\u001b[39;00m row \u001b[38;5;129;01min\u001b[39;00m rows:\n",
      "\u001b[0;31mNameError\u001b[0m: name 'cursor' is not defined"
     ]
    }
   ],
   "source": [
    "# Zad.1 Wykonaj INNER JOIN między tabelami Employees i Departments, aby uzyskać listę pracowników wraz z nazwami działów.\n",
    "\n",
    "cursor.execute(\"SELECT * FROM Employees E INNER JOIN Departments D ON E.DepartmentID = D.DepartmentID ;\")\n",
    "rows = cursor.fetchall()\n",
    "for row in rows:\n",
    "    print(row)"
   ]
  },
  {
   "cell_type": "code",
   "execution_count": null,
   "metadata": {},
   "outputs": [],
   "source": [
    "# Zad 2. Wykonaj LEFT JOIN między tabelami Employees i EmployeeProjects, aby zobaczyć, którzy pracownicy są przypisani do projektów, a którzy nie.\n",
    "\n",
    "cursor.execute(\"SELECT * FROM EmployeeProjects EP LEFT JOIN Employees E ON E.EmployeeID = EP.EmployeeID ;\")\n",
    "rows = cursor.fetchall()\n",
    "for row in rows:\n",
    "    print(row)"
   ]
  },
  {
   "cell_type": "code",
   "execution_count": null,
   "metadata": {},
   "outputs": [],
   "source": [
    "# Zad 3. Wykonaj RIGHT JOIN między tabelami Departments i Employees, aby zobaczyć wszystkie działy, nawet te bez pracowników.\n",
    "\n",
    "cursor.execute(\"SELECT * FROM Employees E RIGHT JOIN Departments D ON D.DepartmentID = E.DepartmentID ;\")\n",
    "rows = cursor.fetchall()\n",
    "for row in rows:\n",
    "    print(row)"
   ]
  },
  {
   "cell_type": "code",
   "execution_count": null,
   "metadata": {},
   "outputs": [],
   "source": [
    "# Zad 4. Wykonaj FULL OUTER JOIN między Employees i EmployeeProjects, aby zobaczyć pełne powiązania pracowników z projektami.\n",
    "\n",
    "cursor.execute(\"SELECT * FROM Employees E FULL OUTER JOIN EmployeeProjects EP ON E.EmployeeID = EP.EmployeeID ;\")\n",
    "rows = cursor.fetchall()\n",
    "for row in rows:\n",
    "    print(row)"
   ]
  },
  {
   "cell_type": "code",
   "execution_count": null,
   "metadata": {},
   "outputs": [],
   "source": [
    "# Zad 5. Wykonaj CROSS JOIN między Employees i Projects, aby zobaczyć wszystkie możliwe kombinacje pracowników i projektów.\n",
    "\n",
    "cursor.execute(\"SELECT * FROM Employees E CROSS JOIN Projects P;\")\n",
    "rows = cursor.fetchall()\n",
    "for row in rows:\n",
    "    print(row)"
   ]
  },
  {
   "cell_type": "code",
   "execution_count": null,
   "metadata": {},
   "outputs": [],
   "source": [
    "# Zad 6. Wykonaj THETA JOIN między Employees i EmployeeProjects, gdzie HoursWorked > 20.\n",
    "\n",
    "cursor.execute(\"SELECT * FROM Employees E JOIN EmployeeProjects EP ON EP.HoursWorked > 20 ;\")\n",
    "rows = cursor.fetchall()\n",
    "for row in rows:\n",
    "    print(row)"
   ]
  }
 ],
 "metadata": {
  "kernelspec": {
   "display_name": "myenv",
   "language": "python",
   "name": "python3"
  },
  "language_info": {
   "codemirror_mode": {
    "name": "ipython",
    "version": 3
   },
   "file_extension": ".py",
   "mimetype": "text/x-python",
   "name": "python",
   "nbconvert_exporter": "python",
   "pygments_lexer": "ipython3",
   "version": "3.9.6"
  }
 },
 "nbformat": 4,
 "nbformat_minor": 2
}
