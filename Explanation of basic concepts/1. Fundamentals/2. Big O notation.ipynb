{
 "cells": [
  {
   "cell_type": "code",
   "execution_count": 1,
   "id": "ab294a89",
   "metadata": {},
   "outputs": [
    {
     "name": "stdout",
     "output_type": "stream",
     "text": [
      "7\n"
     ]
    }
   ],
   "source": [
    "def find_element_O1(arr, index):\n",
    "    if index < len(arr):\n",
    "        return arr[index]\n",
    "    return None\n",
    "# Przykład użycia\n",
    "arr = [3, 5, 7, 9, 11]\n",
    "print(find_element_O1(arr, 2))  # Wynik: 7"
   ]
  },
  {
   "cell_type": "code",
   "execution_count": 2,
   "id": "965307fa",
   "metadata": {},
   "outputs": [
    {
     "name": "stdout",
     "output_type": "stream",
     "text": [
      "7\n"
     ]
    }
   ],
   "source": [
    "def find_element_On(arr, target):\n",
    "    for element in arr:\n",
    "        if element == target:\n",
    "            return element\n",
    "    return None\n",
    "# Przykład użycia\n",
    "arr = [3, 5, 7, 9, 11]\n",
    "print(find_element_On(arr, 7))  # Wynik: 7"
   ]
  },
  {
   "cell_type": "code",
   "execution_count": 3,
   "id": "2ccec5a7",
   "metadata": {},
   "outputs": [
    {
     "name": "stdout",
     "output_type": "stream",
     "text": [
      "9\n"
     ]
    }
   ],
   "source": [
    "def find_element_Ologn(arr, target):\n",
    "    left, right = 0, len(arr) - 1\n",
    "    while left <= right:\n",
    "        mid = (left + right) // 2\n",
    "        if arr[mid] == target:\n",
    "            return arr[mid]\n",
    "        elif arr[mid] < target:\n",
    "            left = mid + 1\n",
    "        else:\n",
    "            right = mid - 1\n",
    "    return None\n",
    "# Przykład użycia\n",
    "arr = [3, 5, 7, 9, 11]\n",
    "print(find_element_Ologn(arr, 9))  # Wynik: 9"
   ]
  },
  {
   "cell_type": "code",
   "execution_count": 4,
   "id": "88eb92c0",
   "metadata": {},
   "outputs": [
    {
     "name": "stdout",
     "output_type": "stream",
     "text": [
      "(3, 11)\n"
     ]
    }
   ],
   "source": [
    "def find_pair_On2(arr, target):\n",
    "    for i in range(len(arr)):\n",
    "        for j in range(i + 1, len(arr)):\n",
    "            if arr[i] + arr[j] == target:\n",
    "                return (arr[i], arr[j])\n",
    "    return None\n",
    "# Przykład użycia\n",
    "arr = [3, 5, 7, 9, 11]\n",
    "print(find_pair_On2(arr, 14))  # Wynik: (3, 11)"
   ]
  },
  {
   "cell_type": "code",
   "execution_count": 5,
   "id": "ecd52168",
   "metadata": {},
   "outputs": [
    {
     "name": "stdout",
     "output_type": "stream",
     "text": [
      "9\n"
     ]
    }
   ],
   "source": [
    "def find_element_Onlogn(arr, target):\n",
    "    # Sortujemy tablicę - kosztuje O(n log n)\n",
    "    arr.sort()\n",
    "    # Następnie wyszukujemy binarnie - kosztuje O(log n)\n",
    "    left, right = 0, len(arr) - 1\n",
    "    while left <= right:\n",
    "        mid = (left + right) // 2\n",
    "        if arr[mid] == target:\n",
    "            return arr[mid]\n",
    "        elif arr[mid] < target:\n",
    "            left = mid + 1\n",
    "        else:\n",
    "            right = mid - 1\n",
    "    return None\n",
    "# Przykład użycia\n",
    "arr = [11, 3, 9, 5, 7]\n",
    "print(find_element_Onlogn(arr, 9))  # Wynik: 9"
   ]
  },
  {
   "cell_type": "code",
   "execution_count": null,
   "id": "b031d433",
   "metadata": {},
   "outputs": [],
   "source": []
  }
 ],
 "metadata": {
  "kernelspec": {
   "display_name": "Python 3 (ipykernel)",
   "language": "python",
   "name": "python3"
  },
  "language_info": {
   "codemirror_mode": {
    "name": "ipython",
    "version": 3
   },
   "file_extension": ".py",
   "mimetype": "text/x-python",
   "name": "python",
   "nbconvert_exporter": "python",
   "pygments_lexer": "ipython3",
   "version": "3.9.18"
  }
 },
 "nbformat": 4,
 "nbformat_minor": 5
}
