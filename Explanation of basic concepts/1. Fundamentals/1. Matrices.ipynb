{
 "cells": [
  {
   "cell_type": "code",
   "execution_count": 13,
   "id": "e653a34f",
   "metadata": {},
   "outputs": [],
   "source": [
    "# INTRODUCTION to Matrices"
   ]
  },
  {
   "cell_type": "code",
   "execution_count": 14,
   "id": "d67af020",
   "metadata": {},
   "outputs": [
    {
     "name": "stdout",
     "output_type": "stream",
     "text": [
      "[[ 3  0  4]\n",
      " [-1 -2  1]]\n"
     ]
    }
   ],
   "source": [
    "import numpy as np\n",
    "A = np.array([[1, 3],[2,1]])\n",
    "B = np.array([[3, 0, 4],[-1, -2, 1]])\n",
    "C = np.array([[-2, 1],[4, 1]])\n",
    "D = np.array([[2],[6]])\n",
    "\n",
    "print(B)"
   ]
  },
  {
   "cell_type": "code",
   "execution_count": 15,
   "id": "8e7dce9e",
   "metadata": {},
   "outputs": [
    {
     "name": "stdout",
     "output_type": "stream",
     "text": [
      "Array B has 2 rows.\n",
      "Array B has 3 columns.\n"
     ]
    }
   ],
   "source": [
    "print(\"Array B has\",B.shape[0],\"rows.\")\n",
    "print(\"Array B has\",B.shape[1],\"columns.\")      "
   ]
  },
  {
   "cell_type": "code",
   "execution_count": 16,
   "id": "7b3e6a4d",
   "metadata": {},
   "outputs": [
    {
     "name": "stdout",
     "output_type": "stream",
     "text": [
      "[[3 9]\n",
      " [6 3]] \n",
      "\n",
      "[[-1  4]\n",
      " [ 6  2]] \n",
      "\n",
      "[[ 0 -6  7]\n",
      " [ 5 -2  9]]\n"
     ]
    }
   ],
   "source": [
    "# The multiplication of a number and a matrix\n",
    "print(3*A,'\\n')\n",
    "\n",
    "# The sum of two matrices of the same shape\n",
    "print(A+C,'\\n')\n",
    "\n",
    "# The multiplication of two matrices\n",
    "print(A@B)"
   ]
  },
  {
   "cell_type": "code",
   "execution_count": 17,
   "id": "198eba2d",
   "metadata": {},
   "outputs": [
    {
     "name": "stdout",
     "output_type": "stream",
     "text": [
      "[[5 4 0]\n",
      " [1 8 3]\n",
      " [6 7 2]]\n",
      "\n",
      "\n",
      "[[5 1 6]\n",
      " [4 8 7]\n",
      " [0 3 2]]\n"
     ]
    }
   ],
   "source": [
    "# NumPy array objects have a method named transpose for this purpose\n",
    "A = np.array([[5, 4, 0],[1, 8, 3],[6, 7, 2]])\n",
    "\n",
    "## Note that the tranpose method must be called with (), the same as a function with no arguments.\n",
    "A_T = A.transpose()\n",
    "\n",
    "print(A)\n",
    "print('\\n')\n",
    "print(A_T)"
   ]
  },
  {
   "cell_type": "code",
   "execution_count": 18,
   "id": "e9b63c70",
   "metadata": {},
   "outputs": [
    {
     "name": "stdout",
     "output_type": "stream",
     "text": [
      "[[1. 0. 0. 0. 0.]\n",
      " [0. 1. 0. 0. 0.]\n",
      " [0. 0. 1. 0. 0.]\n",
      " [0. 0. 0. 1. 0.]\n",
      " [0. 0. 0. 0. 1.]]\n"
     ]
    }
   ],
   "source": [
    "# The NumPy function eye generates an identity matrix of the specified size. Note we only need to provide eye\n",
    "# with one parameter since the identity matrix must be square. We show here the product of I with a random 5×5 matrix\n",
    "\n",
    "I5 = np.eye(5)\n",
    "print(I5)"
   ]
  },
  {
   "cell_type": "code",
   "execution_count": 19,
   "id": "530b0126",
   "metadata": {},
   "outputs": [
    {
     "name": "stdout",
     "output_type": "stream",
     "text": [
      "[[ 1  3 -2]\n",
      " [ 5  2  0]\n",
      " [ 4  2 -1]\n",
      " [ 2  2  0]] \n",
      "\n",
      "[[ 0  6  2  6]\n",
      " [-1  1 -3  4]\n",
      " [ 0  2  4  8]] \n",
      "\n",
      "[[ 2]\n",
      " [-3]\n",
      " [ 4]] \n",
      "\n",
      "[[-15]\n",
      " [  4]\n",
      " [ -2]\n",
      " [ -2]]\n"
     ]
    }
   ],
   "source": [
    "# Matrix multiplication by columns\n",
    "\n",
    "P = np.array([[1, 3, -2],[5, 2, 0],[4, 2, -1],[2, 2, 0]])\n",
    "C = np.array([[0, 6, 2, 6],[-1, 1, -3, 4],[0, 2, 4, 8]])\n",
    "X = C[0:3,2:3]\n",
    "print(P,'\\n')\n",
    "print(C,'\\n')\n",
    "print(X,'\\n')\n",
    "print(P@X)"
   ]
  },
  {
   "cell_type": "code",
   "execution_count": 20,
   "id": "ed9aa1ce",
   "metadata": {},
   "outputs": [],
   "source": [
    "# LET'S TRY SOME EXCERCIES!"
   ]
  },
  {
   "cell_type": "code",
   "execution_count": 26,
   "id": "844f19f6",
   "metadata": {},
   "outputs": [
    {
     "name": "stdout",
     "output_type": "stream",
     "text": [
      "[[ 5]\n",
      " [-2]]\n",
      "\n",
      "\n",
      "[[ 1  6]\n",
      " [ 2  0]\n",
      " [-1 -1]]\n",
      "\n",
      "\n",
      "[[ 2  0]\n",
      " [-1  3]\n",
      " [-1  6]]\n",
      "\n",
      "\n",
      "[[ 3  0  1]\n",
      " [ 1 -2  2]\n",
      " [ 3  4 -1]]\n"
     ]
    }
   ],
   "source": [
    "import numpy as np \n",
    "\n",
    "E = np.array([[5], [-2]])\n",
    "F = np.array([[1, 6],[2, 0],[-1, -1]])\n",
    "G = np.array([[2, 0],[-1, 3],[-1, 6]])\n",
    "H = np.array([[3, 0, 1],[1, -2, 2],[3, 4, -1]])\n",
    "\n",
    "print(E)\n",
    "print('\\n')\n",
    "print(F)\n",
    "print('\\n')\n",
    "print(G)\n",
    "print('\\n')\n",
    "print(H)"
   ]
  },
  {
   "cell_type": "code",
   "execution_count": null,
   "id": "8333a34c",
   "metadata": {},
   "outputs": [],
   "source": [
    "# Exercise 1: \n",
    "\n",
    "# Calculate −2E, G+F, 4F−G, HG, and GE using the following matrix definitions. Do the exercise on paper first, \n",
    "# then check by doing the calculation with NumPy arrays."
   ]
  },
  {
   "cell_type": "code",
   "execution_count": 21,
   "id": "20b77c0b",
   "metadata": {},
   "outputs": [
    {
     "name": "stdout",
     "output_type": "stream",
     "text": [
      "[[-10]\n",
      " [  4]]\n"
     ]
    }
   ],
   "source": [
    "print(-2*E)"
   ]
  },
  {
   "cell_type": "code",
   "execution_count": 27,
   "id": "d398543f",
   "metadata": {},
   "outputs": [
    {
     "name": "stdout",
     "output_type": "stream",
     "text": [
      "[[ 3  6]\n",
      " [ 1  3]\n",
      " [-2  5]]\n"
     ]
    }
   ],
   "source": [
    "print(G+F)"
   ]
  },
  {
   "cell_type": "code",
   "execution_count": 28,
   "id": "5bb5c16f",
   "metadata": {},
   "outputs": [
    {
     "name": "stdout",
     "output_type": "stream",
     "text": [
      "[[  2  24]\n",
      " [  9  -3]\n",
      " [ -3 -10]]\n"
     ]
    }
   ],
   "source": [
    "print((4*F)-G)"
   ]
  },
  {
   "cell_type": "code",
   "execution_count": 29,
   "id": "7a76d88f",
   "metadata": {},
   "outputs": [
    {
     "name": "stdout",
     "output_type": "stream",
     "text": [
      "[[5 6]\n",
      " [2 6]\n",
      " [3 6]]\n"
     ]
    }
   ],
   "source": [
    "print(H@G)"
   ]
  },
  {
   "cell_type": "code",
   "execution_count": 30,
   "id": "bf53a97e",
   "metadata": {},
   "outputs": [
    {
     "name": "stdout",
     "output_type": "stream",
     "text": [
      "[[ 10]\n",
      " [-11]\n",
      " [-17]]\n"
     ]
    }
   ],
   "source": [
    "print(G@E)"
   ]
  },
  {
   "cell_type": "code",
   "execution_count": 33,
   "id": "65f87e54",
   "metadata": {},
   "outputs": [
    {
     "name": "stdout",
     "output_type": "stream",
     "text": [
      "[[ 1  3]\n",
      " [-4  2]]\n",
      "\n",
      "\n",
      "[['3' 'x']\n",
      " ['2' 'y']]\n",
      "\n",
      "\n",
      "[[ 9 10]\n",
      " [-8 16]]\n"
     ]
    }
   ],
   "source": [
    "# Exercise 2: Find the values of x and y so that this equation holds\n",
    "\n",
    "A = np.array([[1, 3],[-4, 2]])\n",
    "B = np.array([[3, None],[2, None]])\n",
    "AB = np.array([[9, 10],[-8, 16]])\n",
    "\n",
    "print(A)\n",
    "print('\\n')\n",
    "print(B)\n",
    "print('\\n')\n",
    "print(AB)"
   ]
  },
  {
   "cell_type": "code",
   "execution_count": 34,
   "id": "eac1b3c1",
   "metadata": {},
   "outputs": [
    {
     "name": "stdout",
     "output_type": "stream",
     "text": [
      "x = -2.0, y = 4.0\n"
     ]
    }
   ],
   "source": [
    "# Tworzymy układ równań wynikający z mnożenia macierzy A * B = AB\n",
    "# Równania:\n",
    "# 1 * x + 3 * y = 10\n",
    "# -4 * x + 2 * y = 16\n",
    "\n",
    "# Macierz współczynników\n",
    "coeff_matrix = np.array([[1, 3], [-4, 2]])\n",
    "\n",
    "# Wektor wyników\n",
    "results = np.array([10, 16])\n",
    "\n",
    "# Rozwiązanie układu równań\n",
    "x_y = np.linalg.solve(coeff_matrix, results)\n",
    "\n",
    "# Wyświetlenie wyników\n",
    "x, y = x_y\n",
    "print(f\"x = {x}, y = {y}\")"
   ]
  }
 ],
 "metadata": {
  "kernelspec": {
   "display_name": "Python 3 (ipykernel)",
   "language": "python",
   "name": "python3"
  },
  "language_info": {
   "codemirror_mode": {
    "name": "ipython",
    "version": 3
   },
   "file_extension": ".py",
   "mimetype": "text/x-python",
   "name": "python",
   "nbconvert_exporter": "python",
   "pygments_lexer": "ipython3",
   "version": "3.9.18"
  }
 },
 "nbformat": 4,
 "nbformat_minor": 5
}
